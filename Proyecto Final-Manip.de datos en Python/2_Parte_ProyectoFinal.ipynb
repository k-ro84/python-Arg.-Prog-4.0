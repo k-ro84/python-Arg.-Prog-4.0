{
 "cells": [
  {
   "cell_type": "code",
   "execution_count": 1,
   "id": "5e539eb9",
   "metadata": {},
   "outputs": [],
   "source": [
    "#• Parte 2 \n",
    "#Realizar una ingesta de datos de un archivo formato .csv utilizando la librería de Pandas \n",
    "#Para este apartado, deberás poder ingestar un archivo en Jupyter Notebook en un formato de tipo .csv. \n",
    "#Resulta importante aclarar que, la elección del archivo queda a criterio propio, sin embargo a continuación \n",
    "#se proporciona un link de interés para la descarga gratuita de datasets. \n",
    "#• Enlace: https://www.kaggle.com/datasets(opens in a new tab) \n",
    "#Importante: en caso de no disponer de una cuenta en Kaggle, \n",
    "#será requerido realizar el registro correspondiente en la página."
   ]
  },
  {
   "cell_type": "code",
   "execution_count": 2,
   "id": "91fc69c4",
   "metadata": {},
   "outputs": [],
   "source": [
    "import pandas as pd\n",
    "df=pd.read_csv(\"G:/Argentina programa/4.0_python/proyecto final/cities.csv\",sep=\",\")"
   ]
  },
  {
   "cell_type": "code",
   "execution_count": 3,
   "id": "97414813",
   "metadata": {},
   "outputs": [
    {
     "name": "stdout",
     "output_type": "stream",
     "text": [
      "            id                 name  state_id state_code         state_name  \\\n",
      "0           52            Ashkāsham      3901        BDS         Badakhshan   \n",
      "1           68             Fayzabad      3901        BDS         Badakhshan   \n",
      "2           78                 Jurm      3901        BDS         Badakhshan   \n",
      "3           84              Khandūd      3901        BDS         Badakhshan   \n",
      "4          115            Rāghistān      3901        BDS         Badakhshan   \n",
      "...        ...                  ...       ...        ...                ...   \n",
      "150449  131496             Redcliff      1957         MI  Midlands Province   \n",
      "150450  131502             Shangani      1957         MI  Midlands Province   \n",
      "150451  131503             Shurugwi      1957         MI  Midlands Province   \n",
      "150452  131504    Shurugwi District      1957         MI  Midlands Province   \n",
      "150453  131508  Zvishavane District      1957         MI  Midlands Province   \n",
      "\n",
      "        country_id country_code country_name  latitude  longitude wikiDataId  \n",
      "0                1           AF  Afghanistan  36.68333   71.53333   Q4805192  \n",
      "1                1           AF  Afghanistan  37.11664   70.58002    Q156558  \n",
      "2                1           AF  Afghanistan  36.86477   70.83421  Q10308323  \n",
      "3                1           AF  Afghanistan  36.95127   72.31800   Q3290334  \n",
      "4                1           AF  Afghanistan  37.66079   70.67346   Q2670909  \n",
      "...            ...          ...          ...       ...        ...        ...  \n",
      "150449         247           ZW     Zimbabwe -19.03333   29.78333    Q584001  \n",
      "150450         247           ZW     Zimbabwe -19.78333   29.36667  Q32017959  \n",
      "150451         247           ZW     Zimbabwe -19.67016   30.00589  Q32019023  \n",
      "150452         247           ZW     Zimbabwe -19.75000   30.16667   Q7505444  \n",
      "150453         247           ZW     Zimbabwe -20.30345   30.07514  Q24235929  \n",
      "\n",
      "[150454 rows x 11 columns]\n"
     ]
    }
   ],
   "source": [
    "print(df)"
   ]
  },
  {
   "cell_type": "code",
   "execution_count": 4,
   "id": "d443f51e",
   "metadata": {},
   "outputs": [
    {
     "data": {
      "text/plain": [
       "pandas.core.frame.DataFrame"
      ]
     },
     "execution_count": 4,
     "metadata": {},
     "output_type": "execute_result"
    }
   ],
   "source": [
    "type(df)"
   ]
  },
  {
   "cell_type": "code",
   "execution_count": 5,
   "id": "539ba35f",
   "metadata": {},
   "outputs": [
    {
     "data": {
      "text/html": [
       "<div>\n",
       "<style scoped>\n",
       "    .dataframe tbody tr th:only-of-type {\n",
       "        vertical-align: middle;\n",
       "    }\n",
       "\n",
       "    .dataframe tbody tr th {\n",
       "        vertical-align: top;\n",
       "    }\n",
       "\n",
       "    .dataframe thead th {\n",
       "        text-align: right;\n",
       "    }\n",
       "</style>\n",
       "<table border=\"1\" class=\"dataframe\">\n",
       "  <thead>\n",
       "    <tr style=\"text-align: right;\">\n",
       "      <th></th>\n",
       "      <th>id</th>\n",
       "      <th>name</th>\n",
       "      <th>state_id</th>\n",
       "      <th>state_code</th>\n",
       "      <th>state_name</th>\n",
       "      <th>country_id</th>\n",
       "      <th>country_code</th>\n",
       "      <th>country_name</th>\n",
       "      <th>latitude</th>\n",
       "      <th>longitude</th>\n",
       "      <th>wikiDataId</th>\n",
       "    </tr>\n",
       "  </thead>\n",
       "  <tbody>\n",
       "    <tr>\n",
       "      <th>0</th>\n",
       "      <td>52</td>\n",
       "      <td>Ashkāsham</td>\n",
       "      <td>3901</td>\n",
       "      <td>BDS</td>\n",
       "      <td>Badakhshan</td>\n",
       "      <td>1</td>\n",
       "      <td>AF</td>\n",
       "      <td>Afghanistan</td>\n",
       "      <td>36.68333</td>\n",
       "      <td>71.53333</td>\n",
       "      <td>Q4805192</td>\n",
       "    </tr>\n",
       "    <tr>\n",
       "      <th>1</th>\n",
       "      <td>68</td>\n",
       "      <td>Fayzabad</td>\n",
       "      <td>3901</td>\n",
       "      <td>BDS</td>\n",
       "      <td>Badakhshan</td>\n",
       "      <td>1</td>\n",
       "      <td>AF</td>\n",
       "      <td>Afghanistan</td>\n",
       "      <td>37.11664</td>\n",
       "      <td>70.58002</td>\n",
       "      <td>Q156558</td>\n",
       "    </tr>\n",
       "    <tr>\n",
       "      <th>2</th>\n",
       "      <td>78</td>\n",
       "      <td>Jurm</td>\n",
       "      <td>3901</td>\n",
       "      <td>BDS</td>\n",
       "      <td>Badakhshan</td>\n",
       "      <td>1</td>\n",
       "      <td>AF</td>\n",
       "      <td>Afghanistan</td>\n",
       "      <td>36.86477</td>\n",
       "      <td>70.83421</td>\n",
       "      <td>Q10308323</td>\n",
       "    </tr>\n",
       "    <tr>\n",
       "      <th>3</th>\n",
       "      <td>84</td>\n",
       "      <td>Khandūd</td>\n",
       "      <td>3901</td>\n",
       "      <td>BDS</td>\n",
       "      <td>Badakhshan</td>\n",
       "      <td>1</td>\n",
       "      <td>AF</td>\n",
       "      <td>Afghanistan</td>\n",
       "      <td>36.95127</td>\n",
       "      <td>72.31800</td>\n",
       "      <td>Q3290334</td>\n",
       "    </tr>\n",
       "    <tr>\n",
       "      <th>4</th>\n",
       "      <td>115</td>\n",
       "      <td>Rāghistān</td>\n",
       "      <td>3901</td>\n",
       "      <td>BDS</td>\n",
       "      <td>Badakhshan</td>\n",
       "      <td>1</td>\n",
       "      <td>AF</td>\n",
       "      <td>Afghanistan</td>\n",
       "      <td>37.66079</td>\n",
       "      <td>70.67346</td>\n",
       "      <td>Q2670909</td>\n",
       "    </tr>\n",
       "  </tbody>\n",
       "</table>\n",
       "</div>"
      ],
      "text/plain": [
       "    id       name  state_id state_code  state_name  country_id country_code  \\\n",
       "0   52  Ashkāsham      3901        BDS  Badakhshan           1           AF   \n",
       "1   68   Fayzabad      3901        BDS  Badakhshan           1           AF   \n",
       "2   78       Jurm      3901        BDS  Badakhshan           1           AF   \n",
       "3   84    Khandūd      3901        BDS  Badakhshan           1           AF   \n",
       "4  115  Rāghistān      3901        BDS  Badakhshan           1           AF   \n",
       "\n",
       "  country_name  latitude  longitude wikiDataId  \n",
       "0  Afghanistan  36.68333   71.53333   Q4805192  \n",
       "1  Afghanistan  37.11664   70.58002    Q156558  \n",
       "2  Afghanistan  36.86477   70.83421  Q10308323  \n",
       "3  Afghanistan  36.95127   72.31800   Q3290334  \n",
       "4  Afghanistan  37.66079   70.67346   Q2670909  "
      ]
     },
     "execution_count": 5,
     "metadata": {},
     "output_type": "execute_result"
    }
   ],
   "source": [
    "df.head()"
   ]
  },
  {
   "cell_type": "code",
   "execution_count": 6,
   "id": "feee73fd",
   "metadata": {},
   "outputs": [
    {
     "data": {
      "text/html": [
       "<div>\n",
       "<style scoped>\n",
       "    .dataframe tbody tr th:only-of-type {\n",
       "        vertical-align: middle;\n",
       "    }\n",
       "\n",
       "    .dataframe tbody tr th {\n",
       "        vertical-align: top;\n",
       "    }\n",
       "\n",
       "    .dataframe thead th {\n",
       "        text-align: right;\n",
       "    }\n",
       "</style>\n",
       "<table border=\"1\" class=\"dataframe\">\n",
       "  <thead>\n",
       "    <tr style=\"text-align: right;\">\n",
       "      <th></th>\n",
       "      <th>id</th>\n",
       "      <th>name</th>\n",
       "      <th>state_id</th>\n",
       "      <th>state_code</th>\n",
       "      <th>state_name</th>\n",
       "      <th>country_id</th>\n",
       "      <th>country_code</th>\n",
       "      <th>country_name</th>\n",
       "      <th>latitude</th>\n",
       "      <th>longitude</th>\n",
       "      <th>wikiDataId</th>\n",
       "    </tr>\n",
       "  </thead>\n",
       "  <tbody>\n",
       "    <tr>\n",
       "      <th>150449</th>\n",
       "      <td>131496</td>\n",
       "      <td>Redcliff</td>\n",
       "      <td>1957</td>\n",
       "      <td>MI</td>\n",
       "      <td>Midlands Province</td>\n",
       "      <td>247</td>\n",
       "      <td>ZW</td>\n",
       "      <td>Zimbabwe</td>\n",
       "      <td>-19.03333</td>\n",
       "      <td>29.78333</td>\n",
       "      <td>Q584001</td>\n",
       "    </tr>\n",
       "    <tr>\n",
       "      <th>150450</th>\n",
       "      <td>131502</td>\n",
       "      <td>Shangani</td>\n",
       "      <td>1957</td>\n",
       "      <td>MI</td>\n",
       "      <td>Midlands Province</td>\n",
       "      <td>247</td>\n",
       "      <td>ZW</td>\n",
       "      <td>Zimbabwe</td>\n",
       "      <td>-19.78333</td>\n",
       "      <td>29.36667</td>\n",
       "      <td>Q32017959</td>\n",
       "    </tr>\n",
       "    <tr>\n",
       "      <th>150451</th>\n",
       "      <td>131503</td>\n",
       "      <td>Shurugwi</td>\n",
       "      <td>1957</td>\n",
       "      <td>MI</td>\n",
       "      <td>Midlands Province</td>\n",
       "      <td>247</td>\n",
       "      <td>ZW</td>\n",
       "      <td>Zimbabwe</td>\n",
       "      <td>-19.67016</td>\n",
       "      <td>30.00589</td>\n",
       "      <td>Q32019023</td>\n",
       "    </tr>\n",
       "    <tr>\n",
       "      <th>150452</th>\n",
       "      <td>131504</td>\n",
       "      <td>Shurugwi District</td>\n",
       "      <td>1957</td>\n",
       "      <td>MI</td>\n",
       "      <td>Midlands Province</td>\n",
       "      <td>247</td>\n",
       "      <td>ZW</td>\n",
       "      <td>Zimbabwe</td>\n",
       "      <td>-19.75000</td>\n",
       "      <td>30.16667</td>\n",
       "      <td>Q7505444</td>\n",
       "    </tr>\n",
       "    <tr>\n",
       "      <th>150453</th>\n",
       "      <td>131508</td>\n",
       "      <td>Zvishavane District</td>\n",
       "      <td>1957</td>\n",
       "      <td>MI</td>\n",
       "      <td>Midlands Province</td>\n",
       "      <td>247</td>\n",
       "      <td>ZW</td>\n",
       "      <td>Zimbabwe</td>\n",
       "      <td>-20.30345</td>\n",
       "      <td>30.07514</td>\n",
       "      <td>Q24235929</td>\n",
       "    </tr>\n",
       "  </tbody>\n",
       "</table>\n",
       "</div>"
      ],
      "text/plain": [
       "            id                 name  state_id state_code         state_name  \\\n",
       "150449  131496             Redcliff      1957         MI  Midlands Province   \n",
       "150450  131502             Shangani      1957         MI  Midlands Province   \n",
       "150451  131503             Shurugwi      1957         MI  Midlands Province   \n",
       "150452  131504    Shurugwi District      1957         MI  Midlands Province   \n",
       "150453  131508  Zvishavane District      1957         MI  Midlands Province   \n",
       "\n",
       "        country_id country_code country_name  latitude  longitude wikiDataId  \n",
       "150449         247           ZW     Zimbabwe -19.03333   29.78333    Q584001  \n",
       "150450         247           ZW     Zimbabwe -19.78333   29.36667  Q32017959  \n",
       "150451         247           ZW     Zimbabwe -19.67016   30.00589  Q32019023  \n",
       "150452         247           ZW     Zimbabwe -19.75000   30.16667   Q7505444  \n",
       "150453         247           ZW     Zimbabwe -20.30345   30.07514  Q24235929  "
      ]
     },
     "execution_count": 6,
     "metadata": {},
     "output_type": "execute_result"
    }
   ],
   "source": [
    "df.tail()"
   ]
  },
  {
   "cell_type": "code",
   "execution_count": 8,
   "id": "f831f232",
   "metadata": {},
   "outputs": [
    {
     "data": {
      "text/plain": [
       "id              150454\n",
       "name            150454\n",
       "state_id        150454\n",
       "state_code      150129\n",
       "state_name      150454\n",
       "country_id      150454\n",
       "country_code    150406\n",
       "country_name    150454\n",
       "latitude        150454\n",
       "longitude       150454\n",
       "wikiDataId      147198\n",
       "dtype: int64"
      ]
     },
     "execution_count": 8,
     "metadata": {},
     "output_type": "execute_result"
    }
   ],
   "source": [
    "df.count()"
   ]
  },
  {
   "cell_type": "code",
   "execution_count": 10,
   "id": "ed9d8564",
   "metadata": {},
   "outputs": [
    {
     "data": {
      "text/plain": [
       "id                int64\n",
       "name             object\n",
       "state_id          int64\n",
       "state_code       object\n",
       "state_name       object\n",
       "country_id        int64\n",
       "country_code     object\n",
       "country_name     object\n",
       "latitude        float64\n",
       "longitude       float64\n",
       "wikiDataId       object\n",
       "dtype: object"
      ]
     },
     "execution_count": 10,
     "metadata": {},
     "output_type": "execute_result"
    }
   ],
   "source": [
    "df.dtypes"
   ]
  },
  {
   "cell_type": "code",
   "execution_count": 15,
   "id": "0d69c7e6",
   "metadata": {},
   "outputs": [
    {
     "name": "stdout",
     "output_type": "stream",
     "text": [
      "<bound method DataFrame.count of             id                 name  state_id state_code         state_name  \\\n",
      "0           52            Ashkāsham      3901        BDS         Badakhshan   \n",
      "1           68             Fayzabad      3901        BDS         Badakhshan   \n",
      "2           78                 Jurm      3901        BDS         Badakhshan   \n",
      "3           84              Khandūd      3901        BDS         Badakhshan   \n",
      "4          115            Rāghistān      3901        BDS         Badakhshan   \n",
      "...        ...                  ...       ...        ...                ...   \n",
      "150449  131496             Redcliff      1957         MI  Midlands Province   \n",
      "150450  131502             Shangani      1957         MI  Midlands Province   \n",
      "150451  131503             Shurugwi      1957         MI  Midlands Province   \n",
      "150452  131504    Shurugwi District      1957         MI  Midlands Province   \n",
      "150453  131508  Zvishavane District      1957         MI  Midlands Province   \n",
      "\n",
      "        country_id country_code country_name  latitude  longitude wikiDataId  \n",
      "0                1           AF  Afghanistan  36.68333   71.53333   Q4805192  \n",
      "1                1           AF  Afghanistan  37.11664   70.58002    Q156558  \n",
      "2                1           AF  Afghanistan  36.86477   70.83421  Q10308323  \n",
      "3                1           AF  Afghanistan  36.95127   72.31800   Q3290334  \n",
      "4                1           AF  Afghanistan  37.66079   70.67346   Q2670909  \n",
      "...            ...          ...          ...       ...        ...        ...  \n",
      "150449         247           ZW     Zimbabwe -19.03333   29.78333    Q584001  \n",
      "150450         247           ZW     Zimbabwe -19.78333   29.36667  Q32017959  \n",
      "150451         247           ZW     Zimbabwe -19.67016   30.00589  Q32019023  \n",
      "150452         247           ZW     Zimbabwe -19.75000   30.16667   Q7505444  \n",
      "150453         247           ZW     Zimbabwe -20.30345   30.07514  Q24235929  \n",
      "\n",
      "[150454 rows x 11 columns]>\n"
     ]
    }
   ],
   "source": [
    "print(df.count)"
   ]
  },
  {
   "cell_type": "code",
   "execution_count": 16,
   "id": "8b59396c",
   "metadata": {},
   "outputs": [
    {
     "name": "stdout",
     "output_type": "stream",
     "text": [
      "(150454, 11)\n"
     ]
    }
   ],
   "source": [
    "print(df.shape)"
   ]
  },
  {
   "cell_type": "code",
   "execution_count": null,
   "id": "0196f3b0",
   "metadata": {},
   "outputs": [],
   "source": [
    "#Primero se fue a la pagina\n",
    "#Despues se descargo el archivo ,se descomprimio, \n",
    "#lo abri con blockdenotas para ver el separador que tenia y se subio a un nuevo notebook\n",
    "#Por ultimo realice unos ejercicios de prueba, para ver que funcionara bien."
   ]
  }
 ],
 "metadata": {
  "kernelspec": {
   "display_name": "Python 3 (ipykernel)",
   "language": "python",
   "name": "python3"
  },
  "language_info": {
   "codemirror_mode": {
    "name": "ipython",
    "version": 3
   },
   "file_extension": ".py",
   "mimetype": "text/x-python",
   "name": "python",
   "nbconvert_exporter": "python",
   "pygments_lexer": "ipython3",
   "version": "3.11.3"
  }
 },
 "nbformat": 4,
 "nbformat_minor": 5
}
